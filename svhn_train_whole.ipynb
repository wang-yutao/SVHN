{
 "cells": [
  {
   "cell_type": "code",
   "execution_count": 1,
   "metadata": {},
   "outputs": [],
   "source": [
    "import os\n",
    "import numpy as np\n",
    "import pickle\n",
    "from PIL import Image\n",
    "import matplotlib.pyplot as plt\n",
    "import tensorflow as tf\n",
    "from tensorflow.keras import Input, Model, layers, optimizers, losses, metrics, datasets\n",
    "\n",
    "root_URL = 'C:\\\\Users\\\\lenovo\\\\Desktop\\\\'"
   ]
  },
  {
   "cell_type": "code",
   "execution_count": 2,
   "metadata": {},
   "outputs": [
    {
     "name": "stdout",
     "output_type": "stream",
     "text": [
      "Train Shape: (33401, 56, 112) (33401, 6)\n",
      "Test Shape: (13068, 56, 112) (13068, 6)\n"
     ]
    }
   ],
   "source": [
    "# 加载数据\n",
    "pickle_file = root_URL + 'svhn_dataset_112x56.pkl'\n",
    "with open(pickle_file, 'rb') as f:\n",
    "    save = pickle.load(f)\n",
    "    train_images = save['train_images']\n",
    "    train_labels = save['train_labels']\n",
    "    test_images = save['test_images']\n",
    "    test_labels = save['test_labels']\n",
    "    del save  # hint to help gc free up memory\n",
    "    print('Train Shape:', train_images.shape, train_labels.shape)\n",
    "    print('Test Shape:', test_images.shape, test_labels.shape)"
   ]
  },
  {
   "cell_type": "code",
   "execution_count": 3,
   "metadata": {},
   "outputs": [],
   "source": [
    "# 预处理函数\n",
    "def preprocess(x, y):\n",
    "    x = tf.expand_dims(x, axis=-1) # 在axis=3扩展一维\n",
    "    y = [y[:,0],y[:,1],y[:,2],y[:,3],y[:,4],y[:,5]]\n",
    "    return x, y"
   ]
  },
  {
   "cell_type": "code",
   "execution_count": 4,
   "metadata": {},
   "outputs": [
    {
     "name": "stdout",
     "output_type": "stream",
     "text": [
      "(33401, 56, 112, 1) (13068, 56, 112, 1)\n"
     ]
    }
   ],
   "source": [
    "train_images, train_labels = preprocess(train_images,train_labels)\n",
    "test_images, test_labels = preprocess(test_images,test_labels)\n",
    "print(train_images.shape,test_images.shape)"
   ]
  },
  {
   "cell_type": "code",
   "execution_count": 5,
   "metadata": {},
   "outputs": [
    {
     "name": "stdout",
     "output_type": "stream",
     "text": [
      "1 5\n"
     ]
    }
   ],
   "source": [
    "print(min(train_labels[:][0]),max(train_labels[:][0]))"
   ]
  },
  {
   "cell_type": "code",
   "execution_count": 6,
   "metadata": {},
   "outputs": [],
   "source": [
    "\n",
    "inputs = Input(shape = (56,112,1))\n",
    "\n",
    "model = layers.BatchNormalization()(inputs)\n",
    "model = layers.Conv2D(64, (7,7), padding='same', activation='relu')(model)\n",
    "model = layers.MaxPool2D(pool_size=2)(model)\n",
    "\n",
    "model = layers.BatchNormalization()(model)\n",
    "model = layers.Conv2D(128, (5,5), padding='valid', activation='relu')(model)\n",
    "model = layers.MaxPool2D(pool_size=2)(model)\n",
    "\n",
    "model = layers.BatchNormalization()(model)\n",
    "model = layers.Conv2D(256, (3,3), padding='valid', activation='relu')(model)\n",
    "model = layers.MaxPool2D(pool_size=2)(model)\n",
    "model = layers.Dropout(0.5)(model)\n",
    "\n",
    "model = layers.Flatten()(model)\n",
    "# model = layers.Dense(1024, activation='relu')(model)\n",
    "model = layers.Dense(512, activation='relu')(model)\n",
    "\n",
    "output_0 = layers.Dense(6,activation='softmax')(model)\n",
    "output_1 = layers.Dense(11,activation='softmax')(model)\n",
    "output_2 = layers.Dense(11,activation='softmax')(model)\n",
    "output_3 = layers.Dense(11,activation='softmax')(model)\n",
    "output_4 = layers.Dense(11,activation='softmax')(model)\n",
    "output_5 = layers.Dense(11,activation='softmax')(model)\n",
    "\n",
    "outputs = [output_0, output_1, output_2, output_3, output_4, output_5]"
   ]
  },
  {
   "cell_type": "code",
   "execution_count": 7,
   "metadata": {},
   "outputs": [
    {
     "name": "stdout",
     "output_type": "stream",
     "text": [
      "Model: \"model\"\n",
      "__________________________________________________________________________________________________\n",
      "Layer (type)                    Output Shape         Param #     Connected to                     \n",
      "==================================================================================================\n",
      "input_1 (InputLayer)            [(None, 56, 112, 1)] 0                                            \n",
      "__________________________________________________________________________________________________\n",
      "batch_normalization (BatchNorma (None, 56, 112, 1)   4           input_1[0][0]                    \n",
      "__________________________________________________________________________________________________\n",
      "conv2d (Conv2D)                 (None, 56, 112, 64)  3200        batch_normalization[0][0]        \n",
      "__________________________________________________________________________________________________\n",
      "max_pooling2d (MaxPooling2D)    (None, 28, 56, 64)   0           conv2d[0][0]                     \n",
      "__________________________________________________________________________________________________\n",
      "batch_normalization_1 (BatchNor (None, 28, 56, 64)   256         max_pooling2d[0][0]              \n",
      "__________________________________________________________________________________________________\n",
      "conv2d_1 (Conv2D)               (None, 24, 52, 128)  204928      batch_normalization_1[0][0]      \n",
      "__________________________________________________________________________________________________\n",
      "max_pooling2d_1 (MaxPooling2D)  (None, 12, 26, 128)  0           conv2d_1[0][0]                   \n",
      "__________________________________________________________________________________________________\n",
      "batch_normalization_2 (BatchNor (None, 12, 26, 128)  512         max_pooling2d_1[0][0]            \n",
      "__________________________________________________________________________________________________\n",
      "conv2d_2 (Conv2D)               (None, 10, 24, 256)  295168      batch_normalization_2[0][0]      \n",
      "__________________________________________________________________________________________________\n",
      "max_pooling2d_2 (MaxPooling2D)  (None, 5, 12, 256)   0           conv2d_2[0][0]                   \n",
      "__________________________________________________________________________________________________\n",
      "dropout (Dropout)               (None, 5, 12, 256)   0           max_pooling2d_2[0][0]            \n",
      "__________________________________________________________________________________________________\n",
      "flatten (Flatten)               (None, 15360)        0           dropout[0][0]                    \n",
      "__________________________________________________________________________________________________\n",
      "dense (Dense)                   (None, 512)          7864832     flatten[0][0]                    \n",
      "__________________________________________________________________________________________________\n",
      "dense_1 (Dense)                 (None, 6)            3078        dense[0][0]                      \n",
      "__________________________________________________________________________________________________\n",
      "dense_2 (Dense)                 (None, 11)           5643        dense[0][0]                      \n",
      "__________________________________________________________________________________________________\n",
      "dense_3 (Dense)                 (None, 11)           5643        dense[0][0]                      \n",
      "__________________________________________________________________________________________________\n",
      "dense_4 (Dense)                 (None, 11)           5643        dense[0][0]                      \n",
      "__________________________________________________________________________________________________\n",
      "dense_5 (Dense)                 (None, 11)           5643        dense[0][0]                      \n",
      "__________________________________________________________________________________________________\n",
      "dense_6 (Dense)                 (None, 11)           5643        dense[0][0]                      \n",
      "==================================================================================================\n",
      "Total params: 8,400,193\n",
      "Trainable params: 8,399,807\n",
      "Non-trainable params: 386\n",
      "__________________________________________________________________________________________________\n"
     ]
    }
   ],
   "source": [
    "model = Model(inputs=inputs, outputs=outputs)\n",
    "model.compile(loss='sparse_categorical_crossentropy',\n",
    "              optimizer=\"rmsprop\",\n",
    "              metrics=['accuracy'])\n",
    "model.summary()"
   ]
  },
  {
   "cell_type": "code",
   "execution_count": 8,
   "metadata": {},
   "outputs": [],
   "source": [
    "# 设置回调功能\n",
    "filepath = 'my_model_whole.h5' # 保存模型地址\n",
    "saved_model = tf.keras.callbacks.ModelCheckpoint(filepath, verbose = 1) # 回调保存模型功能\n",
    "tensorboard = tf.keras.callbacks.TensorBoard() # 回调可视化数据功能"
   ]
  },
  {
   "cell_type": "code",
   "execution_count": null,
   "metadata": {},
   "outputs": [],
   "source": [
    "# 执行训练与验证\n",
    "history = model.fit(train_images, train_labels, \n",
    "                    batch_size = 4, epochs = 100,\n",
    "                    validation_split = 0.2,\n",
    "                    callbacks = [saved_model, tensorboard])"
   ]
  },
  {
   "cell_type": "code",
   "execution_count": null,
   "metadata": {},
   "outputs": [],
   "source": [
    "model = tf.keras.models.load_model('my_model_whole.h5')\n",
    "correct = 0\n",
    "test_len = len(test_images)\n",
    "for i in range(test_len):\n",
    "    x = tf.expand_dims(test_images[i], axis=0)\n",
    "    y0 = tf.expand_dims(test_labels[0][i], axis=0)\n",
    "    y1 = tf.expand_dims(test_labels[1][i], axis=0)\n",
    "    y2 = tf.expand_dims(test_labels[2][i], axis=0)\n",
    "    y3 = tf.expand_dims(test_labels[3][i], axis=0)\n",
    "    y4 = tf.expand_dims(test_labels[4][i], axis=0)\n",
    "    y5 = tf.expand_dims(test_labels[5][i], axis=0)\n",
    "    y = [y0, y1, y2, y3, y4, y5]\n",
    "\n",
    "#     print(y)\n",
    "    val = model.evaluate(x, y,verbose=0)\n",
    "#     print(val)\n",
    "    acc = tf.reduce_prod(val[7:])\n",
    "    \n",
    "    if acc == 1:\n",
    "        correct += 1\n",
    "\n",
    "accuracy = correct / test_len\n",
    "print(accuracy)"
   ]
  },
  {
   "cell_type": "code",
   "execution_count": null,
   "metadata": {},
   "outputs": [],
   "source": []
  }
 ],
 "metadata": {
  "kernelspec": {
   "display_name": "Python 3",
   "language": "python",
   "name": "python3"
  },
  "language_info": {
   "codemirror_mode": {
    "name": "ipython",
    "version": 3
   },
   "file_extension": ".py",
   "mimetype": "text/x-python",
   "name": "python",
   "nbconvert_exporter": "python",
   "pygments_lexer": "ipython3",
   "version": "3.7.7"
  }
 },
 "nbformat": 4,
 "nbformat_minor": 4
}
