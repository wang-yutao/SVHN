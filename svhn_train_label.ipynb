{
 "cells": [
  {
   "cell_type": "code",
   "execution_count": 1,
   "metadata": {},
   "outputs": [],
   "source": [
    "import os\n",
    "import numpy as np\n",
    "import pickle\n",
    "from PIL import Image\n",
    "import matplotlib.pyplot as plt\n",
    "import tensorflow as tf\n",
    "from tensorflow.keras import Input, Model, layers, optimizers, losses, metrics, datasets\n",
    "\n",
    "root_URL = 'C:\\\\Users\\\\lenovo\\\\Desktop\\\\'"
   ]
  },
  {
   "cell_type": "code",
   "execution_count": 2,
   "metadata": {},
   "outputs": [
    {
     "name": "stdout",
     "output_type": "stream",
     "text": [
      "Train Shape: (33401, 64, 64) (33401, 6)\n",
      "Test Shape: (13068, 64, 64) (13068, 6)\n"
     ]
    }
   ],
   "source": [
    "# 加载数据\n",
    "pickle_file = root_URL + 'svhn_dataset_64x64.pkl'\n",
    "with open(pickle_file, 'rb') as f:\n",
    "    save = pickle.load(f)\n",
    "    train_images = save['train_images']\n",
    "    train_labels = save['train_labels']\n",
    "    test_images = save['test_images']\n",
    "    test_labels = save['test_labels']\n",
    "    del save  # hint to help gc free up memory\n",
    "    print('Train Shape:', train_images.shape, train_labels.shape)\n",
    "    print('Test Shape:', test_images.shape, test_labels.shape)"
   ]
  },
  {
   "cell_type": "code",
   "execution_count": 3,
   "metadata": {},
   "outputs": [],
   "source": [
    "# 预处理函数\n",
    "def preprocess(x, y):\n",
    "    x = tf.expand_dims(x, axis=-1) # 在axis=3扩展一维\n",
    "    y = [y[:,0],y[:,1],y[:,2],y[:,3],y[:,4],y[:,5]]\n",
    "    return x, y"
   ]
  },
  {
   "cell_type": "code",
   "execution_count": 4,
   "metadata": {},
   "outputs": [
    {
     "name": "stdout",
     "output_type": "stream",
     "text": [
      "(33401, 64, 64, 1) (13068, 64, 64, 1)\n"
     ]
    }
   ],
   "source": [
    "train_images, train_labels = preprocess(train_images,train_labels)\n",
    "test_images, test_labels = preprocess(test_images,test_labels)\n",
    "print(train_images.shape,test_images.shape)"
   ]
  },
  {
   "cell_type": "code",
   "execution_count": 7,
   "metadata": {},
   "outputs": [
    {
     "name": "stdout",
     "output_type": "stream",
     "text": [
      "1 5\n"
     ]
    }
   ],
   "source": [
    "print(min(train_labels[:][0]),max(train_labels[:][0]))"
   ]
  },
  {
   "cell_type": "code",
   "execution_count": 6,
   "metadata": {},
   "outputs": [],
   "source": [
    "\n",
    "inputs = Input(shape = (64,64,1))\n",
    "\n",
    "model = layers.BatchNormalization()(inputs)\n",
    "model = layers.Conv2D(64, (7,7), padding='same', activation='relu')(model)\n",
    "model = layers.MaxPool2D(pool_size=2)(model)\n",
    "\n",
    "model = layers.BatchNormalization()(model)\n",
    "model = layers.Conv2D(128, (5,5), padding='valid', activation='relu')(model)\n",
    "model = layers.MaxPool2D(pool_size=2)(model)\n",
    "\n",
    "model = layers.BatchNormalization()(model)\n",
    "model = layers.Conv2D(256, (3,3), padding='valid', activation='relu')(model)\n",
    "model = layers.MaxPool2D(pool_size=2)(model)\n",
    "model = layers.Dropout(0.5)(model)\n",
    "\n",
    "model = layers.Flatten()(model)\n",
    "model = layers.Dense(1024, activation='relu')(model)\n",
    "model = layers.Dense(512, activation='relu')(model)\n",
    "\n",
    "output_0 = layers.Dense(6,activation='softmax')(model)\n",
    "output_1 = layers.Dense(11,activation='softmax')(model)\n",
    "output_2 = layers.Dense(11,activation='softmax')(model)\n",
    "output_3 = layers.Dense(11,activation='softmax')(model)\n",
    "output_4 = layers.Dense(11,activation='softmax')(model)\n",
    "output_5 = layers.Dense(11,activation='softmax')(model)\n",
    "\n",
    "outputs = [output_0, output_1, output_2, output_3, output_4, output_5]"
   ]
  },
  {
   "cell_type": "code",
   "execution_count": 7,
   "metadata": {},
   "outputs": [
    {
     "name": "stdout",
     "output_type": "stream",
     "text": [
      "Model: \"model\"\n",
      "__________________________________________________________________________________________________\n",
      "Layer (type)                    Output Shape         Param #     Connected to                     \n",
      "==================================================================================================\n",
      "input_1 (InputLayer)            [(None, 64, 64, 1)]  0                                            \n",
      "__________________________________________________________________________________________________\n",
      "batch_normalization (BatchNorma (None, 64, 64, 1)    4           input_1[0][0]                    \n",
      "__________________________________________________________________________________________________\n",
      "conv2d (Conv2D)                 (None, 64, 64, 64)   3200        batch_normalization[0][0]        \n",
      "__________________________________________________________________________________________________\n",
      "max_pooling2d (MaxPooling2D)    (None, 32, 32, 64)   0           conv2d[0][0]                     \n",
      "__________________________________________________________________________________________________\n",
      "batch_normalization_1 (BatchNor (None, 32, 32, 64)   256         max_pooling2d[0][0]              \n",
      "__________________________________________________________________________________________________\n",
      "conv2d_1 (Conv2D)               (None, 28, 28, 128)  204928      batch_normalization_1[0][0]      \n",
      "__________________________________________________________________________________________________\n",
      "max_pooling2d_1 (MaxPooling2D)  (None, 14, 14, 128)  0           conv2d_1[0][0]                   \n",
      "__________________________________________________________________________________________________\n",
      "batch_normalization_2 (BatchNor (None, 14, 14, 128)  512         max_pooling2d_1[0][0]            \n",
      "__________________________________________________________________________________________________\n",
      "conv2d_2 (Conv2D)               (None, 12, 12, 256)  295168      batch_normalization_2[0][0]      \n",
      "__________________________________________________________________________________________________\n",
      "max_pooling2d_2 (MaxPooling2D)  (None, 6, 6, 256)    0           conv2d_2[0][0]                   \n",
      "__________________________________________________________________________________________________\n",
      "dropout (Dropout)               (None, 6, 6, 256)    0           max_pooling2d_2[0][0]            \n",
      "__________________________________________________________________________________________________\n",
      "flatten (Flatten)               (None, 9216)         0           dropout[0][0]                    \n",
      "__________________________________________________________________________________________________\n",
      "dense (Dense)                   (None, 1024)         9438208     flatten[0][0]                    \n",
      "__________________________________________________________________________________________________\n",
      "dense_1 (Dense)                 (None, 512)          524800      dense[0][0]                      \n",
      "__________________________________________________________________________________________________\n",
      "dense_2 (Dense)                 (None, 6)            3078        dense_1[0][0]                    \n",
      "__________________________________________________________________________________________________\n",
      "dense_3 (Dense)                 (None, 11)           5643        dense_1[0][0]                    \n",
      "__________________________________________________________________________________________________\n",
      "dense_4 (Dense)                 (None, 11)           5643        dense_1[0][0]                    \n",
      "__________________________________________________________________________________________________\n",
      "dense_5 (Dense)                 (None, 11)           5643        dense_1[0][0]                    \n",
      "__________________________________________________________________________________________________\n",
      "dense_6 (Dense)                 (None, 11)           5643        dense_1[0][0]                    \n",
      "__________________________________________________________________________________________________\n",
      "dense_7 (Dense)                 (None, 11)           5643        dense_1[0][0]                    \n",
      "==================================================================================================\n",
      "Total params: 10,498,369\n",
      "Trainable params: 10,497,983\n",
      "Non-trainable params: 386\n",
      "__________________________________________________________________________________________________\n"
     ]
    }
   ],
   "source": [
    "model = Model(inputs=inputs, outputs=outputs)\n",
    "model.compile(loss='sparse_categorical_crossentropy',\n",
    "              optimizer=\"rmsprop\",\n",
    "              metrics=['accuracy'])\n",
    "model.summary()"
   ]
  },
  {
   "cell_type": "code",
   "execution_count": 8,
   "metadata": {},
   "outputs": [],
   "source": [
    "# 设置回调功能\n",
    "filepath = 'my_model_label.h5' # 保存模型地址\n",
    "saved_model = tf.keras.callbacks.ModelCheckpoint(filepath, verbose = 1) # 回调保存模型功能\n",
    "tensorboard = tf.keras.callbacks.TensorBoard() # 回调可视化数据功能"
   ]
  },
  {
   "cell_type": "code",
   "execution_count": 9,
   "metadata": {},
   "outputs": [
    {
     "name": "stdout",
     "output_type": "stream",
     "text": [
      "Train on 26720 samples, validate on 6681 samples\n",
      "Epoch 1/100\n",
      "   32/26720 [..............................] - ETA: 1:14:25 - loss: 17.2980 - dense_2_loss: 2.0825 - dense_3_loss: 2.7789 - dense_4_loss: 2.6246 - dense_5_loss: 3.9158 - dense_6_loss: 3.2550 - dense_7_loss: 2.6412 - dense_2_accuracy: 0.1562 - dense_3_accuracy: 0.2188 - dense_4_accuracy: 0.1562 - dense_5_accuracy: 0.0312 - dense_6_accuracy: 0.0000e+00 - dense_7_accuracy: 0.0000e+00WARNING:tensorflow:Method (on_train_batch_end) is slow compared to the batch update (0.158922). Check your callbacks.\n",
      "26688/26720 [============================>.] - ETA: 0s - loss: 4.2086 - dense_2_loss: 0.5351 - dense_3_loss: 1.2167 - dense_4_loss: 1.3743 - dense_5_loss: 0.8710 - dense_6_loss: 0.2016 - dense_7_loss: 0.0099 - dense_2_accuracy: 0.8597 - dense_3_accuracy: 0.6670 - dense_4_accuracy: 0.5946 - dense_5_accuracy: 0.7815 - dense_6_accuracy: 0.9583 - dense_7_accuracy: 0.9985\n",
      "Epoch 00001: saving model to my_model_label.h5\n",
      "26720/26720 [==============================] - 66s 2ms/sample - loss: 4.2062 - dense_2_loss: 0.5349 - dense_3_loss: 1.2160 - dense_4_loss: 1.3735 - dense_5_loss: 0.8706 - dense_6_loss: 0.2015 - dense_7_loss: 0.0099 - dense_2_accuracy: 0.8597 - dense_3_accuracy: 0.6672 - dense_4_accuracy: 0.5948 - dense_5_accuracy: 0.7815 - dense_6_accuracy: 0.9583 - dense_7_accuracy: 0.9985 - val_loss: 2.0650 - val_dense_2_loss: 0.1851 - val_dense_3_loss: 0.5890 - val_dense_4_loss: 0.6603 - val_dense_5_loss: 0.4759 - val_dense_6_loss: 0.1516 - val_dense_7_loss: 0.0040 - val_dense_2_accuracy: 0.9380 - val_dense_3_accuracy: 0.8174 - val_dense_4_accuracy: 0.7907 - val_dense_5_accuracy: 0.8544 - val_dense_6_accuracy: 0.9564 - val_dense_7_accuracy: 0.9999\n",
      "Epoch 2/100\n",
      "26688/26720 [============================>.] - ETA: 0s - loss: 2.0150 - dense_2_loss: 0.1881 - dense_3_loss: 0.5820 - dense_4_loss: 0.6590 - dense_5_loss: 0.4496 - dense_6_loss: 0.1310 - dense_7_loss: 0.0053 - dense_2_accuracy: 0.9395 - dense_3_accuracy: 0.8212 - dense_4_accuracy: 0.7943 - dense_5_accuracy: 0.8636 - dense_6_accuracy: 0.9644 - dense_7_accuracy: 0.9997\n",
      "Epoch 00002: saving model to my_model_label.h5\n",
      "26720/26720 [==============================] - 60s 2ms/sample - loss: 2.0157 - dense_2_loss: 0.1883 - dense_3_loss: 0.5820 - dense_4_loss: 0.6592 - dense_5_loss: 0.4497 - dense_6_loss: 0.1311 - dense_7_loss: 0.0053 - dense_2_accuracy: 0.9394 - dense_3_accuracy: 0.8212 - dense_4_accuracy: 0.7942 - dense_5_accuracy: 0.8636 - dense_6_accuracy: 0.9644 - dense_7_accuracy: 0.9997 - val_loss: 1.8960 - val_dense_2_loss: 0.1792 - val_dense_3_loss: 0.5519 - val_dense_4_loss: 0.5762 - val_dense_5_loss: 0.4397 - val_dense_6_loss: 0.1458 - val_dense_7_loss: 0.0035 - val_dense_2_accuracy: 0.9416 - val_dense_3_accuracy: 0.8249 - val_dense_4_accuracy: 0.8270 - val_dense_5_accuracy: 0.8708 - val_dense_6_accuracy: 0.9612 - val_dense_7_accuracy: 0.9999\n",
      "Epoch 3/100\n",
      "26688/26720 [============================>.] - ETA: 0s - loss: 1.7541 - dense_2_loss: 0.1636 - dense_3_loss: 0.5070 - dense_4_loss: 0.5636 - dense_5_loss: 0.3955 - dense_6_loss: 0.1191 - dense_7_loss: 0.0054 - dense_2_accuracy: 0.9488 - dense_3_accuracy: 0.8480 - dense_4_accuracy: 0.8293 - dense_5_accuracy: 0.8814 - dense_6_accuracy: 0.9673 - dense_7_accuracy: 0.9997\n",
      "Epoch 00003: saving model to my_model_label.h5\n",
      "26720/26720 [==============================] - 60s 2ms/sample - loss: 1.7539 - dense_2_loss: 0.1635 - dense_3_loss: 0.5069 - dense_4_loss: 0.5637 - dense_5_loss: 0.3954 - dense_6_loss: 0.1190 - dense_7_loss: 0.0054 - dense_2_accuracy: 0.9488 - dense_3_accuracy: 0.8480 - dense_4_accuracy: 0.8293 - dense_5_accuracy: 0.8814 - dense_6_accuracy: 0.9674 - dense_7_accuracy: 0.9997 - val_loss: 1.7193 - val_dense_2_loss: 0.1754 - val_dense_3_loss: 0.4903 - val_dense_4_loss: 0.5297 - val_dense_5_loss: 0.3889 - val_dense_6_loss: 0.1318 - val_dense_7_loss: 0.0031 - val_dense_2_accuracy: 0.9487 - val_dense_3_accuracy: 0.8611 - val_dense_4_accuracy: 0.8440 - val_dense_5_accuracy: 0.8880 - val_dense_6_accuracy: 0.9647 - val_dense_7_accuracy: 0.9999\n",
      "Epoch 4/100\n",
      "26688/26720 [============================>.] - ETA: 0s - loss: 1.7012 - dense_2_loss: 0.1645 - dense_3_loss: 0.4922 - dense_4_loss: 0.5482 - dense_5_loss: 0.3740 - dense_6_loss: 0.1145 - dense_7_loss: 0.0077 - dense_2_accuracy: 0.9498 - dense_3_accuracy: 0.8539 - dense_4_accuracy: 0.8340 - dense_5_accuracy: 0.8899 - dense_6_accuracy: 0.9679 - dense_7_accuracy: 0.9997\n",
      "Epoch 00004: saving model to my_model_label.h5\n",
      "26720/26720 [==============================] - 60s 2ms/sample - loss: 1.7018 - dense_2_loss: 0.1646 - dense_3_loss: 0.4924 - dense_4_loss: 0.5481 - dense_5_loss: 0.3743 - dense_6_loss: 0.1146 - dense_7_loss: 0.0077 - dense_2_accuracy: 0.9497 - dense_3_accuracy: 0.8539 - dense_4_accuracy: 0.8340 - dense_5_accuracy: 0.8898 - dense_6_accuracy: 0.9679 - dense_7_accuracy: 0.9997 - val_loss: 1.6797 - val_dense_2_loss: 0.1612 - val_dense_3_loss: 0.4874 - val_dense_4_loss: 0.5268 - val_dense_5_loss: 0.3725 - val_dense_6_loss: 0.1293 - val_dense_7_loss: 0.0025 - val_dense_2_accuracy: 0.9488 - val_dense_3_accuracy: 0.8565 - val_dense_4_accuracy: 0.8430 - val_dense_5_accuracy: 0.8928 - val_dense_6_accuracy: 0.9665 - val_dense_7_accuracy: 0.9999\n",
      "Epoch 5/100\n",
      "26688/26720 [============================>.] - ETA: 0s - loss: 1.7144 - dense_2_loss: 0.1710 - dense_3_loss: 0.4941 - dense_4_loss: 0.5416 - dense_5_loss: 0.3834 - dense_6_loss: 0.1198 - dense_7_loss: 0.0045 - dense_2_accuracy: 0.9486 - dense_3_accuracy: 0.8550 - dense_4_accuracy: 0.8389 - dense_5_accuracy: 0.8877 - dense_6_accuracy: 0.9703 - dense_7_accuracy: 0.9997\n",
      "Epoch 00005: saving model to my_model_label.h5\n",
      "26720/26720 [==============================] - 61s 2ms/sample - loss: 1.7137 - dense_2_loss: 0.1709 - dense_3_loss: 0.4939 - dense_4_loss: 0.5414 - dense_5_loss: 0.3833 - dense_6_loss: 0.1197 - dense_7_loss: 0.0045 - dense_2_accuracy: 0.9485 - dense_3_accuracy: 0.8551 - dense_4_accuracy: 0.8390 - dense_5_accuracy: 0.8877 - dense_6_accuracy: 0.9703 - dense_7_accuracy: 0.9997 - val_loss: 1.7478 - val_dense_2_loss: 0.1917 - val_dense_3_loss: 0.4830 - val_dense_4_loss: 0.5020 - val_dense_5_loss: 0.4125 - val_dense_6_loss: 0.1542 - val_dense_7_loss: 0.0042 - val_dense_2_accuracy: 0.9535 - val_dense_3_accuracy: 0.8734 - val_dense_4_accuracy: 0.8590 - val_dense_5_accuracy: 0.8919 - val_dense_6_accuracy: 0.9696 - val_dense_7_accuracy: 0.9999\n",
      "Epoch 6/100\n",
      "26688/26720 [============================>.] - ETA: 0s - loss: 1.6826 - dense_2_loss: 0.1643 - dense_3_loss: 0.4912 - dense_4_loss: 0.5380 - dense_5_loss: 0.3686 - dense_6_loss: 0.1140 - dense_7_loss: 0.0065 - dense_2_accuracy: 0.9517 - dense_3_accuracy: 0.8562 - dense_4_accuracy: 0.8411 - dense_5_accuracy: 0.8922 - dense_6_accuracy: 0.9705 - dense_7_accuracy: 0.9997\n",
      "Epoch 00006: saving model to my_model_label.h5\n",
      "26720/26720 [==============================] - 62s 2ms/sample - loss: 1.6819 - dense_2_loss: 0.1642 - dense_3_loss: 0.4909 - dense_4_loss: 0.5379 - dense_5_loss: 0.3684 - dense_6_loss: 0.1141 - dense_7_loss: 0.0065 - dense_2_accuracy: 0.9517 - dense_3_accuracy: 0.8562 - dense_4_accuracy: 0.8411 - dense_5_accuracy: 0.8922 - dense_6_accuracy: 0.9705 - dense_7_accuracy: 0.9997 - val_loss: 1.6937 - val_dense_2_loss: 0.1765 - val_dense_3_loss: 0.4773 - val_dense_4_loss: 0.5352 - val_dense_5_loss: 0.3772 - val_dense_6_loss: 0.1242 - val_dense_7_loss: 0.0033 - val_dense_2_accuracy: 0.9529 - val_dense_3_accuracy: 0.8645 - val_dense_4_accuracy: 0.8443 - val_dense_5_accuracy: 0.8949 - val_dense_6_accuracy: 0.9689 - val_dense_7_accuracy: 0.9999\n",
      "Epoch 7/100\n",
      "26688/26720 [============================>.] - ETA: 0s - loss: 1.6721 - dense_2_loss: 0.1650 - dense_3_loss: 0.4882 - dense_4_loss: 0.5366 - dense_5_loss: 0.3695 - dense_6_loss: 0.1073 - dense_7_loss: 0.0056 - dense_2_accuracy: 0.9518 - dense_3_accuracy: 0.8607 - dense_4_accuracy: 0.8414 - dense_5_accuracy: 0.8943 - dense_6_accuracy: 0.9718 - dense_7_accuracy: 0.9997\n",
      "Epoch 00007: saving model to my_model_label.h5\n",
      "26720/26720 [==============================] - 61s 2ms/sample - loss: 1.6728 - dense_2_loss: 0.1650 - dense_3_loss: 0.4883 - dense_4_loss: 0.5369 - dense_5_loss: 0.3697 - dense_6_loss: 0.1074 - dense_7_loss: 0.0056 - dense_2_accuracy: 0.9517 - dense_3_accuracy: 0.8606 - dense_4_accuracy: 0.8412 - dense_5_accuracy: 0.8942 - dense_6_accuracy: 0.9718 - dense_7_accuracy: 0.9997 - val_loss: 1.6446 - val_dense_2_loss: 0.1664 - val_dense_3_loss: 0.4450 - val_dense_4_loss: 0.4856 - val_dense_5_loss: 0.4100 - val_dense_6_loss: 0.1332 - val_dense_7_loss: 0.0040 - val_dense_2_accuracy: 0.9524 - val_dense_3_accuracy: 0.8738 - val_dense_4_accuracy: 0.8581 - val_dense_5_accuracy: 0.8864 - val_dense_6_accuracy: 0.9698 - val_dense_7_accuracy: 0.9999\n",
      "Epoch 8/100\n",
      "26688/26720 [============================>.] - ETA: 0s - loss: 1.6684 - dense_2_loss: 0.1654 - dense_3_loss: 0.4794 - dense_4_loss: 0.5332 - dense_5_loss: 0.3644 - dense_6_loss: 0.1208 - dense_7_loss: 0.0053 - dense_2_accuracy: 0.9507 - dense_3_accuracy: 0.8637 - dense_4_accuracy: 0.8452 - dense_5_accuracy: 0.8944 - dense_6_accuracy: 0.9696 - dense_7_accuracy: 0.9997\n",
      "Epoch 00008: saving model to my_model_label.h5\n",
      "26720/26720 [==============================] - 61s 2ms/sample - loss: 1.6683 - dense_2_loss: 0.1654 - dense_3_loss: 0.4791 - dense_4_loss: 0.5334 - dense_5_loss: 0.3644 - dense_6_loss: 0.1207 - dense_7_loss: 0.0053 - dense_2_accuracy: 0.9507 - dense_3_accuracy: 0.8638 - dense_4_accuracy: 0.8451 - dense_5_accuracy: 0.8945 - dense_6_accuracy: 0.9696 - dense_7_accuracy: 0.9997 - val_loss: 1.6483 - val_dense_2_loss: 0.1751 - val_dense_3_loss: 0.4501 - val_dense_4_loss: 0.5237 - val_dense_5_loss: 0.3782 - val_dense_6_loss: 0.1194 - val_dense_7_loss: 0.0022 - val_dense_2_accuracy: 0.9512 - val_dense_3_accuracy: 0.8659 - val_dense_4_accuracy: 0.8494 - val_dense_5_accuracy: 0.8900 - val_dense_6_accuracy: 0.9696 - val_dense_7_accuracy: 0.9999\n",
      "Epoch 9/100\n",
      "26688/26720 [============================>.] - ETA: 0s - loss: 1.6772 - dense_2_loss: 0.1714 - dense_3_loss: 0.4838 - dense_4_loss: 0.5348 - dense_5_loss: 0.3665 - dense_6_loss: 0.1136 - dense_7_loss: 0.0071 - dense_2_accuracy: 0.9512 - dense_3_accuracy: 0.8630 - dense_4_accuracy: 0.8458 - dense_5_accuracy: 0.8948 - dense_6_accuracy: 0.9721 - dense_7_accuracy: 0.9997\n",
      "Epoch 00009: saving model to my_model_label.h5\n",
      "26720/26720 [==============================] - 62s 2ms/sample - loss: 1.6767 - dense_2_loss: 0.1712 - dense_3_loss: 0.4836 - dense_4_loss: 0.5351 - dense_5_loss: 0.3661 - dense_6_loss: 0.1136 - dense_7_loss: 0.0071 - dense_2_accuracy: 0.9513 - dense_3_accuracy: 0.8631 - dense_4_accuracy: 0.8458 - dense_5_accuracy: 0.8949 - dense_6_accuracy: 0.9721 - dense_7_accuracy: 0.9997 - val_loss: 1.6114 - val_dense_2_loss: 0.1698 - val_dense_3_loss: 0.4588 - val_dense_4_loss: 0.4871 - val_dense_5_loss: 0.3517 - val_dense_6_loss: 0.1365 - val_dense_7_loss: 0.0075 - val_dense_2_accuracy: 0.9505 - val_dense_3_accuracy: 0.8728 - val_dense_4_accuracy: 0.8517 - val_dense_5_accuracy: 0.9021 - val_dense_6_accuracy: 0.9644 - val_dense_7_accuracy: 0.9999\n",
      "Epoch 10/100\n",
      "26688/26720 [============================>.] - ETA: 0s - loss: 1.6088 - dense_2_loss: 0.1596 - dense_3_loss: 0.4601 - dense_4_loss: 0.5187 - dense_5_loss: 0.3534 - dense_6_loss: 0.1096 - dense_7_loss: 0.0074 - dense_2_accuracy: 0.9532 - dense_3_accuracy: 0.8676 - dense_4_accuracy: 0.8489 - dense_5_accuracy: 0.8977 - dense_6_accuracy: 0.9728 - dense_7_accuracy: 0.9997\n",
      "Epoch 00010: saving model to my_model_label.h5\n",
      "26720/26720 [==============================] - 62s 2ms/sample - loss: 1.6079 - dense_2_loss: 0.1596 - dense_3_loss: 0.4599 - dense_4_loss: 0.5183 - dense_5_loss: 0.3533 - dense_6_loss: 0.1095 - dense_7_loss: 0.0074 - dense_2_accuracy: 0.9532 - dense_3_accuracy: 0.8677 - dense_4_accuracy: 0.8490 - dense_5_accuracy: 0.8977 - dense_6_accuracy: 0.9728 - dense_7_accuracy: 0.9997 - val_loss: 1.5341 - val_dense_2_loss: 0.1530 - val_dense_3_loss: 0.4219 - val_dense_4_loss: 0.4898 - val_dense_5_loss: 0.3552 - val_dense_6_loss: 0.1094 - val_dense_7_loss: 0.0049 - val_dense_2_accuracy: 0.9551 - val_dense_3_accuracy: 0.8761 - val_dense_4_accuracy: 0.8490 - val_dense_5_accuracy: 0.9054 - val_dense_6_accuracy: 0.9719 - val_dense_7_accuracy: 0.9999\n",
      "Epoch 11/100\n",
      "26688/26720 [============================>.] - ETA: 0s - loss: 1.5887 - dense_2_loss: 0.1557 - dense_3_loss: 0.4572 - dense_4_loss: 0.5086 - dense_5_loss: 0.3530 - dense_6_loss: 0.1081 - dense_7_loss: 0.0061 - dense_2_accuracy: 0.9550 - dense_3_accuracy: 0.8690 - dense_4_accuracy: 0.8514 - dense_5_accuracy: 0.9001 - dense_6_accuracy: 0.9719 - dense_7_accuracy: 0.9997\n",
      "Epoch 00011: saving model to my_model_label.h5\n",
      "26720/26720 [==============================] - 63s 2ms/sample - loss: 1.5885 - dense_2_loss: 0.1556 - dense_3_loss: 0.4576 - dense_4_loss: 0.5086 - dense_5_loss: 0.3528 - dense_6_loss: 0.1079 - dense_7_loss: 0.0060 - dense_2_accuracy: 0.9551 - dense_3_accuracy: 0.8690 - dense_4_accuracy: 0.8513 - dense_5_accuracy: 0.9002 - dense_6_accuracy: 0.9719 - dense_7_accuracy: 0.9997 - val_loss: 1.6255 - val_dense_2_loss: 0.1797 - val_dense_3_loss: 0.4436 - val_dense_4_loss: 0.4839 - val_dense_5_loss: 0.3745 - val_dense_6_loss: 0.1405 - val_dense_7_loss: 0.0032 - val_dense_2_accuracy: 0.9591 - val_dense_3_accuracy: 0.8901 - val_dense_4_accuracy: 0.8719 - val_dense_5_accuracy: 0.9023 - val_dense_6_accuracy: 0.9701 - val_dense_7_accuracy: 0.9999\n",
      "Epoch 12/100\n",
      "26688/26720 [============================>.] - ETA: 0s - loss: 1.5468 - dense_2_loss: 0.1527 - dense_3_loss: 0.4457 - dense_4_loss: 0.4927 - dense_5_loss: 0.3460 - dense_6_loss: 0.1039 - dense_7_loss: 0.0058 - dense_2_accuracy: 0.9562 - dense_3_accuracy: 0.8730 - dense_4_accuracy: 0.8587 - dense_5_accuracy: 0.9007 - dense_6_accuracy: 0.9750 - dense_7_accuracy: 0.9997      - ETA: 1:06 - loss: 1.5847 - dense_2_loss: 0.1978 - dense_3_loss: 0.360 - ETA: 49s - loss: 1.5321 - dense_2_loss: 0.1578 - dense_3_loss: 0.4235 - dense_4_loss: 0.5023 - dense_5_loss: 0.3231 - de\n",
      "Epoch 00012: saving model to my_model_label.h5\n",
      "26720/26720 [==============================] - 74s 3ms/sample - loss: 1.5464 - dense_2_loss: 0.1526 - dense_3_loss: 0.4457 - dense_4_loss: 0.4927 - dense_5_loss: 0.3459 - dense_6_loss: 0.1038 - dense_7_loss: 0.0058 - dense_2_accuracy: 0.9563 - dense_3_accuracy: 0.8731 - dense_4_accuracy: 0.8586 - dense_5_accuracy: 0.9007 - dense_6_accuracy: 0.9750 - dense_7_accuracy: 0.9997 - val_loss: 1.7648 - val_dense_2_loss: 0.1734 - val_dense_3_loss: 0.5000 - val_dense_4_loss: 0.5829 - val_dense_5_loss: 0.3821 - val_dense_6_loss: 0.1187 - val_dense_7_loss: 0.0077 - val_dense_2_accuracy: 0.9502 - val_dense_3_accuracy: 0.8514 - val_dense_4_accuracy: 0.8261 - val_dense_5_accuracy: 0.8818 - val_dense_6_accuracy: 0.9689 - val_dense_7_accuracy: 0.9999\n",
      "Epoch 13/100\n",
      "26688/26720 [============================>.] - ETA: 0s - loss: 1.5330 - dense_2_loss: 0.1526 - dense_3_loss: 0.4302 - dense_4_loss: 0.4952 - dense_5_loss: 0.3366 - dense_6_loss: 0.1086 - dense_7_loss: 0.0097 - dense_2_accuracy: 0.9550 - dense_3_accuracy: 0.8777 - dense_4_accuracy: 0.8566 - dense_5_accuracy: 0.9043 - dense_6_accuracy: 0.9730 - dense_7_accuracy: 0.9997  ETA: 10s - loss: 1.5306 - dense_2_loss: 0.1530 - dense_3_loss: 0.4238 - dense_4_loss: 0.4964 - dense_5_loss: 0.3363 - dense_6_loss: 0.1121 - dense_7_loss: 0.0091 - de\n",
      "Epoch 00013: saving model to my_model_label.h5\n",
      "26720/26720 [==============================] - 65s 2ms/sample - loss: 1.5335 - dense_2_loss: 0.1528 - dense_3_loss: 0.4301 - dense_4_loss: 0.4955 - dense_5_loss: 0.3370 - dense_6_loss: 0.1085 - dense_7_loss: 0.0097 - dense_2_accuracy: 0.9549 - dense_3_accuracy: 0.8777 - dense_4_accuracy: 0.8566 - dense_5_accuracy: 0.9042 - dense_6_accuracy: 0.9730 - dense_7_accuracy: 0.9997 - val_loss: 1.7305 - val_dense_2_loss: 0.1844 - val_dense_3_loss: 0.4964 - val_dense_4_loss: 0.5267 - val_dense_5_loss: 0.3881 - val_dense_6_loss: 0.1294 - val_dense_7_loss: 0.0063 - val_dense_2_accuracy: 0.9457 - val_dense_3_accuracy: 0.8595 - val_dense_4_accuracy: 0.8467 - val_dense_5_accuracy: 0.8924 - val_dense_6_accuracy: 0.9668 - val_dense_7_accuracy: 0.9999\n",
      "Epoch 14/100\n",
      "26688/26720 [============================>.] - ETA: 0s - loss: 1.5125 - dense_2_loss: 0.1543 - dense_3_loss: 0.4337 - dense_4_loss: 0.4819 - dense_5_loss: 0.3299 - dense_6_loss: 0.1043 - dense_7_loss: 0.0084 - dense_2_accuracy: 0.9559 - dense_3_accuracy: 0.8776 - dense_4_accuracy: 0.8603 - dense_5_accuracy: 0.9059 - dense_6_accuracy: 0.9744 - dense_7_accuracy: 0.9997\n",
      "Epoch 00014: saving model to my_model_label.h5\n",
      "26720/26720 [==============================] - 64s 2ms/sample - loss: 1.5117 - dense_2_loss: 0.1541 - dense_3_loss: 0.4334 - dense_4_loss: 0.4818 - dense_5_loss: 0.3299 - dense_6_loss: 0.1042 - dense_7_loss: 0.0084 - dense_2_accuracy: 0.9559 - dense_3_accuracy: 0.8777 - dense_4_accuracy: 0.8603 - dense_5_accuracy: 0.9059 - dense_6_accuracy: 0.9745 - dense_7_accuracy: 0.9997 - val_loss: 1.5941 - val_dense_2_loss: 0.1918 - val_dense_3_loss: 0.4264 - val_dense_4_loss: 0.4619 - val_dense_5_loss: 0.3709 - val_dense_6_loss: 0.1398 - val_dense_7_loss: 0.0035 - val_dense_2_accuracy: 0.9530 - val_dense_3_accuracy: 0.8873 - val_dense_4_accuracy: 0.8761 - val_dense_5_accuracy: 0.9084 - val_dense_6_accuracy: 0.9737 - val_dense_7_accuracy: 0.9999\n",
      "Epoch 15/100\n",
      "26688/26720 [============================>.] - ETA: 0s - loss: 1.4916 - dense_2_loss: 0.1576 - dense_3_loss: 0.4270 - dense_4_loss: 0.4601 - dense_5_loss: 0.3309 - dense_6_loss: 0.1072 - dense_7_loss: 0.0088 - dense_2_accuracy: 0.9541 - dense_3_accuracy: 0.8783 - dense_4_accuracy: 0.8657 - dense_5_accuracy: 0.9057 - dense_6_accuracy: 0.9739 - dense_7_accuracy: 0.9997\n",
      "Epoch 00015: saving model to my_model_label.h5\n",
      "26720/26720 [==============================] - 65s 2ms/sample - loss: 1.4920 - dense_2_loss: 0.1576 - dense_3_loss: 0.4271 - dense_4_loss: 0.4600 - dense_5_loss: 0.3310 - dense_6_loss: 0.1075 - dense_7_loss: 0.0088 - dense_2_accuracy: 0.9540 - dense_3_accuracy: 0.8783 - dense_4_accuracy: 0.8657 - dense_5_accuracy: 0.9057 - dense_6_accuracy: 0.9738 - dense_7_accuracy: 0.9997 - val_loss: 1.7660 - val_dense_2_loss: 0.1968 - val_dense_3_loss: 0.4884 - val_dense_4_loss: 0.5316 - val_dense_5_loss: 0.4101 - val_dense_6_loss: 0.1347 - val_dense_7_loss: 0.0043 - val_dense_2_accuracy: 0.9576 - val_dense_3_accuracy: 0.8738 - val_dense_4_accuracy: 0.8621 - val_dense_5_accuracy: 0.8972 - val_dense_6_accuracy: 0.9717 - val_dense_7_accuracy: 0.9999\n",
      "Epoch 16/100\n",
      "26688/26720 [============================>.] - ETA: 0s - loss: 1.4773 - dense_2_loss: 0.1529 - dense_3_loss: 0.4132 - dense_4_loss: 0.4723 - dense_5_loss: 0.3330 - dense_6_loss: 0.0997 - dense_7_loss: 0.0062 - dense_2_accuracy: 0.9556 - dense_3_accuracy: 0.8834 - dense_4_accuracy: 0.8634 - dense_5_accuracy: 0.9062 - dense_6_accuracy: 0.9753 - dense_7_accuracy: 0.9997  ETA: 15s - loss: 1.4688 - dense_2_l\n",
      "Epoch 00016: saving model to my_model_label.h5\n",
      "26720/26720 [==============================] - 65s 2ms/sample - loss: 1.4770 - dense_2_loss: 0.1528 - dense_3_loss: 0.4133 - dense_4_loss: 0.4722 - dense_5_loss: 0.3328 - dense_6_loss: 0.0997 - dense_7_loss: 0.0062 - dense_2_accuracy: 0.9557 - dense_3_accuracy: 0.8833 - dense_4_accuracy: 0.8634 - dense_5_accuracy: 0.9063 - dense_6_accuracy: 0.9753 - dense_7_accuracy: 0.9997 - val_loss: 1.5627 - val_dense_2_loss: 0.1762 - val_dense_3_loss: 0.4714 - val_dense_4_loss: 0.4345 - val_dense_5_loss: 0.3493 - val_dense_6_loss: 0.1266 - val_dense_7_loss: 0.0049 - val_dense_2_accuracy: 0.9585 - val_dense_3_accuracy: 0.8900 - val_dense_4_accuracy: 0.8862 - val_dense_5_accuracy: 0.9163 - val_dense_6_accuracy: 0.9738 - val_dense_7_accuracy: 0.9999\n",
      "Epoch 17/100\n",
      "26688/26720 [============================>.] - ETA: 0s - loss: 1.4715 - dense_2_loss: 0.1536 - dense_3_loss: 0.4222 - dense_4_loss: 0.4642 - dense_5_loss: 0.3230 - dense_6_loss: 0.1025 - dense_7_loss: 0.0060 - dense_2_accuracy: 0.9555 - dense_3_accuracy: 0.8808 - dense_4_accuracy: 0.8661 - dense_5_accuracy: 0.9064 - dense_6_accuracy: 0.9753 - dense_7_accuracy: 0.9997\n",
      "Epoch 00017: saving model to my_model_label.h5\n",
      "26720/26720 [==============================] - 65s 2ms/sample - loss: 1.4726 - dense_2_loss: 0.1538 - dense_3_loss: 0.4227 - dense_4_loss: 0.4640 - dense_5_loss: 0.3233 - dense_6_loss: 0.1028 - dense_7_loss: 0.0060 - dense_2_accuracy: 0.9555 - dense_3_accuracy: 0.8808 - dense_4_accuracy: 0.8661 - dense_5_accuracy: 0.9064 - dense_6_accuracy: 0.9752 - dense_7_accuracy: 0.9997 - val_loss: 3.2588 - val_dense_2_loss: 0.5433 - val_dense_3_loss: 0.7416 - val_dense_4_loss: 0.8821 - val_dense_5_loss: 0.7552 - val_dense_6_loss: 0.3347 - val_dense_7_loss: 0.0045 - val_dense_2_accuracy: 0.9210 - val_dense_3_accuracy: 0.8818 - val_dense_4_accuracy: 0.8553 - val_dense_5_accuracy: 0.8949 - val_dense_6_accuracy: 0.9687 - val_dense_7_accuracy: 0.9999\n",
      "Epoch 18/100\n",
      "26688/26720 [============================>.] - ETA: 0s - loss: 1.4377 - dense_2_loss: 0.1505 - dense_3_loss: 0.4111 - dense_4_loss: 0.4518 - dense_5_loss: 0.3223 - dense_6_loss: 0.0959 - dense_7_loss: 0.0061 - dense_2_accuracy: 0.9566 - dense_3_accuracy: 0.8822 - dense_4_accuracy: 0.8675 - dense_5_accuracy: 0.9091 - dense_6_accuracy: 0.9760 - dense_7_accuracy: 0.9997- ETA: 0s - loss: 1.4375 - dense_2_loss: 0.1508 - dense_3_loss: 0.4107 - dense_4_loss: 0.4511 - dense_5_loss: 0.3227 - dense_6_loss: 0.0960 - dense_7_loss: 0.0061 - dense_2_accuracy: 0.9567 - dense_3_accuracy: 0.8822 - dense_4_accuracy: 0.8675 - dense_5_accuracy: 0.9089 - dense_6_accuracy: 0.9760 - dense_7_accuracy:\n",
      "Epoch 00018: saving model to my_model_label.h5\n",
      "26720/26720 [==============================] - 64s 2ms/sample - loss: 1.4379 - dense_2_loss: 0.1505 - dense_3_loss: 0.4110 - dense_4_loss: 0.4517 - dense_5_loss: 0.3228 - dense_6_loss: 0.0958 - dense_7_loss: 0.0061 - dense_2_accuracy: 0.9566 - dense_3_accuracy: 0.8822 - dense_4_accuracy: 0.8676 - dense_5_accuracy: 0.9091 - dense_6_accuracy: 0.9760 - dense_7_accuracy: 0.9997 - val_loss: 1.6039 - val_dense_2_loss: 0.1601 - val_dense_3_loss: 0.4595 - val_dense_4_loss: 0.5199 - val_dense_5_loss: 0.3535 - val_dense_6_loss: 0.1087 - val_dense_7_loss: 0.0023 - val_dense_2_accuracy: 0.9532 - val_dense_3_accuracy: 0.8602 - val_dense_4_accuracy: 0.8493 - val_dense_5_accuracy: 0.8984 - val_dense_6_accuracy: 0.9701 - val_dense_7_accuracy: 0.9999\n",
      "Epoch 19/100\n",
      "26688/26720 [============================>.] - ETA: 0s - loss: 1.4432 - dense_2_loss: 0.1484 - dense_3_loss: 0.4060 - dense_4_loss: 0.4701 - dense_5_loss: 0.3146 - dense_6_loss: 0.0983 - dense_7_loss: 0.0058 - dense_2_accuracy: 0.9565 - dense_3_accuracy: 0.8827 - dense_4_accuracy: 0.8677 - dense_5_accuracy: 0.9107 - dense_6_accuracy: 0.9753 - dense_7_accuracy: 0.9997\n",
      "Epoch 00019: saving model to my_model_label.h5\n",
      "26720/26720 [==============================] - 64s 2ms/sample - loss: 1.4427 - dense_2_loss: 0.1483 - dense_3_loss: 0.4059 - dense_4_loss: 0.4701 - dense_5_loss: 0.3145 - dense_6_loss: 0.0982 - dense_7_loss: 0.0058 - dense_2_accuracy: 0.9565 - dense_3_accuracy: 0.8828 - dense_4_accuracy: 0.8677 - dense_5_accuracy: 0.9108 - dense_6_accuracy: 0.9753 - dense_7_accuracy: 0.9997 - val_loss: 1.6366 - val_dense_2_loss: 0.1926 - val_dense_3_loss: 0.4672 - val_dense_4_loss: 0.4947 - val_dense_5_loss: 0.3650 - val_dense_6_loss: 0.1140 - val_dense_7_loss: 0.0041 - val_dense_2_accuracy: 0.9512 - val_dense_3_accuracy: 0.8824 - val_dense_4_accuracy: 0.8704 - val_dense_5_accuracy: 0.9078 - val_dense_6_accuracy: 0.9746 - val_dense_7_accuracy: 0.9999\n",
      "Epoch 20/100\n",
      "26688/26720 [============================>.] - ETA: 0s - loss: 1.4194 - dense_2_loss: 0.1449 - dense_3_loss: 0.4117 - dense_4_loss: 0.4544 - dense_5_loss: 0.3126 - dense_6_loss: 0.0884 - dense_7_loss: 0.0074 - dense_2_accuracy: 0.9570 - dense_3_accuracy: 0.8837 - dense_4_accuracy: 0.8696 - dense_5_accuracy: 0.9115 - dense_6_accuracy: 0.9778 - dense_7_accuracy: 0.9997  ETA: 15s - loss: 1.3795 - dense_2_loss: 0.1364 - dense_3_loss: 0.4062 - dense_4_loss: 0.4447 - dense_5_loss: 0.3027 - dense_6_loss: 0.0854 - dense_7_loss - ETA: 9s - loss: 1.3966 - dense_2_loss: 0.1396 - dense_3_loss: 0.4114 - dense_4_loss: 0.4486 - dense_5_loss: 0.3071 - dense_6_loss: 0.0854 - dense_7_loss: 0.0046 - dense_2_accuracy: 0.9579 - dense_3\n",
      "Epoch 00020: saving model to my_model_label.h5\n",
      "26720/26720 [==============================] - 67s 2ms/sample - loss: 1.4188 - dense_2_loss: 0.1448 - dense_3_loss: 0.4115 - dense_4_loss: 0.4542 - dense_5_loss: 0.3124 - dense_6_loss: 0.0885 - dense_7_loss: 0.0073 - dense_2_accuracy: 0.9570 - dense_3_accuracy: 0.8838 - dense_4_accuracy: 0.8696 - dense_5_accuracy: 0.9115 - dense_6_accuracy: 0.9778 - dense_7_accuracy: 0.9997 - val_loss: 1.5752 - val_dense_2_loss: 0.2012 - val_dense_3_loss: 0.4089 - val_dense_4_loss: 0.4684 - val_dense_5_loss: 0.3626 - val_dense_6_loss: 0.1318 - val_dense_7_loss: 0.0022 - val_dense_2_accuracy: 0.9397 - val_dense_3_accuracy: 0.8827 - val_dense_4_accuracy: 0.8689 - val_dense_5_accuracy: 0.9045 - val_dense_6_accuracy: 0.9732 - val_dense_7_accuracy: 0.9999\n",
      "Epoch 21/100\n",
      "26688/26720 [============================>.] - ETA: 0s - loss: 1.4158 - dense_2_loss: 0.1491 - dense_3_loss: 0.4056 - dense_4_loss: 0.4499 - dense_5_loss: 0.3155 - dense_6_loss: 0.0901 - dense_7_loss: 0.0056 - dense_2_accuracy: 0.9572 - dense_3_accuracy: 0.8844 - dense_4_accuracy: 0.8725 - dense_5_accuracy: 0.9103 - dense_6_accuracy: 0.9773 - dense_7_accuracy: 0.9997\n",
      "Epoch 00021: saving model to my_model_label.h5\n",
      "26720/26720 [==============================] - 72s 3ms/sample - loss: 1.4147 - dense_2_loss: 0.1489 - dense_3_loss: 0.4052 - dense_4_loss: 0.4495 - dense_5_loss: 0.3155 - dense_6_loss: 0.0900 - dense_7_loss: 0.0056 - dense_2_accuracy: 0.9573 - dense_3_accuracy: 0.8845 - dense_4_accuracy: 0.8726 - dense_5_accuracy: 0.9103 - dense_6_accuracy: 0.9773 - dense_7_accuracy: 0.9997 - val_loss: 1.7026 - val_dense_2_loss: 0.2106 - val_dense_3_loss: 0.5011 - val_dense_4_loss: 0.4660 - val_dense_5_loss: 0.3768 - val_dense_6_loss: 0.1452 - val_dense_7_loss: 0.0035 - val_dense_2_accuracy: 0.9587 - val_dense_3_accuracy: 0.8921 - val_dense_4_accuracy: 0.8873 - val_dense_5_accuracy: 0.9181 - val_dense_6_accuracy: 0.9737 - val_dense_7_accuracy: 0.9999\n",
      "Epoch 22/100\n",
      "26688/26720 [============================>.] - ETA: 0s - loss: 1.4445 - dense_2_loss: 0.1619 - dense_3_loss: 0.4119 - dense_4_loss: 0.4621 - dense_5_loss: 0.3061 - dense_6_loss: 0.0948 - dense_7_loss: 0.0077 - dense_2_accuracy: 0.9583 - dense_3_accuracy: 0.8838 - dense_4_accuracy: 0.8699 - dense_5_accuracy: 0.9131 - dense_6_accuracy: 0.9770 - dense_7_accuracy: 0.9997- ETA: 2s - loss: 1.4443 - dense_2_loss: 0.1630 - dense_3_loss: 0.4097 - dense_4_loss: 0.4619 - dense_5_loss: 0.3079 - dense_6_loss: 0.0947 - dense_7_loss: 0.0072 - dense_2_accuracy: 0.9580 - dense_3_accuracy: 0.8842 - dense_4_accuracy: 0.8702 - dense_5_accuracy: 0.9128 - dense_6_accuracy:\n",
      "Epoch 00022: saving model to my_model_label.h5\n",
      "26720/26720 [==============================] - 70s 3ms/sample - loss: 1.4458 - dense_2_loss: 0.1620 - dense_3_loss: 0.4123 - dense_4_loss: 0.4625 - dense_5_loss: 0.3063 - dense_6_loss: 0.0949 - dense_7_loss: 0.0077 - dense_2_accuracy: 0.9582 - dense_3_accuracy: 0.8836 - dense_4_accuracy: 0.8698 - dense_5_accuracy: 0.9131 - dense_6_accuracy: 0.9769 - dense_7_accuracy: 0.9997\n"
     ]
    },
    {
     "ename": "KeyboardInterrupt",
     "evalue": "",
     "output_type": "error",
     "traceback": [
      "\u001b[1;31m---------------------------------------------------------------------------\u001b[0m",
      "\u001b[1;31mKeyboardInterrupt\u001b[0m                         Traceback (most recent call last)",
      "\u001b[1;32m<ipython-input-9-62bd0ade376b>\u001b[0m in \u001b[0;36m<module>\u001b[1;34m\u001b[0m\n\u001b[0;32m      3\u001b[0m                     \u001b[0mbatch_size\u001b[0m \u001b[1;33m=\u001b[0m \u001b[1;36m32\u001b[0m\u001b[1;33m,\u001b[0m \u001b[0mepochs\u001b[0m \u001b[1;33m=\u001b[0m \u001b[1;36m100\u001b[0m\u001b[1;33m,\u001b[0m\u001b[1;33m\u001b[0m\u001b[1;33m\u001b[0m\u001b[0m\n\u001b[0;32m      4\u001b[0m                     \u001b[0mvalidation_split\u001b[0m \u001b[1;33m=\u001b[0m \u001b[1;36m0.2\u001b[0m\u001b[1;33m,\u001b[0m\u001b[1;33m\u001b[0m\u001b[1;33m\u001b[0m\u001b[0m\n\u001b[1;32m----> 5\u001b[1;33m                     callbacks = [saved_model, tensorboard])\n\u001b[0m",
      "\u001b[1;32md:\\ProgramData\\Anaconda3\\lib\\site-packages\\tensorflow_core\\python\\keras\\engine\\training.py\u001b[0m in \u001b[0;36mfit\u001b[1;34m(self, x, y, batch_size, epochs, verbose, callbacks, validation_split, validation_data, shuffle, class_weight, sample_weight, initial_epoch, steps_per_epoch, validation_steps, validation_freq, max_queue_size, workers, use_multiprocessing, **kwargs)\u001b[0m\n\u001b[0;32m    817\u001b[0m         \u001b[0mmax_queue_size\u001b[0m\u001b[1;33m=\u001b[0m\u001b[0mmax_queue_size\u001b[0m\u001b[1;33m,\u001b[0m\u001b[1;33m\u001b[0m\u001b[1;33m\u001b[0m\u001b[0m\n\u001b[0;32m    818\u001b[0m         \u001b[0mworkers\u001b[0m\u001b[1;33m=\u001b[0m\u001b[0mworkers\u001b[0m\u001b[1;33m,\u001b[0m\u001b[1;33m\u001b[0m\u001b[1;33m\u001b[0m\u001b[0m\n\u001b[1;32m--> 819\u001b[1;33m         use_multiprocessing=use_multiprocessing)\n\u001b[0m\u001b[0;32m    820\u001b[0m \u001b[1;33m\u001b[0m\u001b[0m\n\u001b[0;32m    821\u001b[0m   def evaluate(self,\n",
      "\u001b[1;32md:\\ProgramData\\Anaconda3\\lib\\site-packages\\tensorflow_core\\python\\keras\\engine\\training_v2.py\u001b[0m in \u001b[0;36mfit\u001b[1;34m(self, model, x, y, batch_size, epochs, verbose, callbacks, validation_split, validation_data, shuffle, class_weight, sample_weight, initial_epoch, steps_per_epoch, validation_steps, validation_freq, max_queue_size, workers, use_multiprocessing, **kwargs)\u001b[0m\n\u001b[0;32m    393\u001b[0m                       \u001b[0mmode\u001b[0m\u001b[1;33m=\u001b[0m\u001b[0mModeKeys\u001b[0m\u001b[1;33m.\u001b[0m\u001b[0mTEST\u001b[0m\u001b[1;33m,\u001b[0m\u001b[1;33m\u001b[0m\u001b[1;33m\u001b[0m\u001b[0m\n\u001b[0;32m    394\u001b[0m                       \u001b[0mtraining_context\u001b[0m\u001b[1;33m=\u001b[0m\u001b[0meval_context\u001b[0m\u001b[1;33m,\u001b[0m\u001b[1;33m\u001b[0m\u001b[1;33m\u001b[0m\u001b[0m\n\u001b[1;32m--> 395\u001b[1;33m                       total_epochs=1)\n\u001b[0m\u001b[0;32m    396\u001b[0m                   cbks.make_logs(model, epoch_logs, eval_result, ModeKeys.TEST,\n\u001b[0;32m    397\u001b[0m                                  prefix='val_')\n",
      "\u001b[1;32md:\\ProgramData\\Anaconda3\\lib\\site-packages\\tensorflow_core\\python\\keras\\engine\\training_v2.py\u001b[0m in \u001b[0;36mrun_one_epoch\u001b[1;34m(model, iterator, execution_function, dataset_size, batch_size, strategy, steps_per_epoch, num_samples, mode, training_context, total_epochs)\u001b[0m\n\u001b[0;32m    126\u001b[0m         step=step, mode=mode, size=current_batch_size) as batch_logs:\n\u001b[0;32m    127\u001b[0m       \u001b[1;32mtry\u001b[0m\u001b[1;33m:\u001b[0m\u001b[1;33m\u001b[0m\u001b[1;33m\u001b[0m\u001b[0m\n\u001b[1;32m--> 128\u001b[1;33m         \u001b[0mbatch_outs\u001b[0m \u001b[1;33m=\u001b[0m \u001b[0mexecution_function\u001b[0m\u001b[1;33m(\u001b[0m\u001b[0miterator\u001b[0m\u001b[1;33m)\u001b[0m\u001b[1;33m\u001b[0m\u001b[1;33m\u001b[0m\u001b[0m\n\u001b[0m\u001b[0;32m    129\u001b[0m       \u001b[1;32mexcept\u001b[0m \u001b[1;33m(\u001b[0m\u001b[0mStopIteration\u001b[0m\u001b[1;33m,\u001b[0m \u001b[0merrors\u001b[0m\u001b[1;33m.\u001b[0m\u001b[0mOutOfRangeError\u001b[0m\u001b[1;33m)\u001b[0m\u001b[1;33m:\u001b[0m\u001b[1;33m\u001b[0m\u001b[1;33m\u001b[0m\u001b[0m\n\u001b[0;32m    130\u001b[0m         \u001b[1;31m# TODO(kaftan): File bug about tf function and errors.OutOfRangeError?\u001b[0m\u001b[1;33m\u001b[0m\u001b[1;33m\u001b[0m\u001b[1;33m\u001b[0m\u001b[0m\n",
      "\u001b[1;32md:\\ProgramData\\Anaconda3\\lib\\site-packages\\tensorflow_core\\python\\keras\\engine\\training_v2_utils.py\u001b[0m in \u001b[0;36mexecution_function\u001b[1;34m(input_fn)\u001b[0m\n\u001b[0;32m     96\u001b[0m     \u001b[1;31m# `numpy` translates Tensors to values in Eager mode.\u001b[0m\u001b[1;33m\u001b[0m\u001b[1;33m\u001b[0m\u001b[1;33m\u001b[0m\u001b[0m\n\u001b[0;32m     97\u001b[0m     return nest.map_structure(_non_none_constant_value,\n\u001b[1;32m---> 98\u001b[1;33m                               distributed_function(input_fn))\n\u001b[0m\u001b[0;32m     99\u001b[0m \u001b[1;33m\u001b[0m\u001b[0m\n\u001b[0;32m    100\u001b[0m   \u001b[1;32mreturn\u001b[0m \u001b[0mexecution_function\u001b[0m\u001b[1;33m\u001b[0m\u001b[1;33m\u001b[0m\u001b[0m\n",
      "\u001b[1;32md:\\ProgramData\\Anaconda3\\lib\\site-packages\\tensorflow_core\\python\\eager\\def_function.py\u001b[0m in \u001b[0;36m__call__\u001b[1;34m(self, *args, **kwds)\u001b[0m\n\u001b[0;32m    566\u001b[0m         \u001b[0mxla_context\u001b[0m\u001b[1;33m.\u001b[0m\u001b[0mExit\u001b[0m\u001b[1;33m(\u001b[0m\u001b[1;33m)\u001b[0m\u001b[1;33m\u001b[0m\u001b[1;33m\u001b[0m\u001b[0m\n\u001b[0;32m    567\u001b[0m     \u001b[1;32melse\u001b[0m\u001b[1;33m:\u001b[0m\u001b[1;33m\u001b[0m\u001b[1;33m\u001b[0m\u001b[0m\n\u001b[1;32m--> 568\u001b[1;33m       \u001b[0mresult\u001b[0m \u001b[1;33m=\u001b[0m \u001b[0mself\u001b[0m\u001b[1;33m.\u001b[0m\u001b[0m_call\u001b[0m\u001b[1;33m(\u001b[0m\u001b[1;33m*\u001b[0m\u001b[0margs\u001b[0m\u001b[1;33m,\u001b[0m \u001b[1;33m**\u001b[0m\u001b[0mkwds\u001b[0m\u001b[1;33m)\u001b[0m\u001b[1;33m\u001b[0m\u001b[1;33m\u001b[0m\u001b[0m\n\u001b[0m\u001b[0;32m    569\u001b[0m \u001b[1;33m\u001b[0m\u001b[0m\n\u001b[0;32m    570\u001b[0m     \u001b[1;32mif\u001b[0m \u001b[0mtracing_count\u001b[0m \u001b[1;33m==\u001b[0m \u001b[0mself\u001b[0m\u001b[1;33m.\u001b[0m\u001b[0m_get_tracing_count\u001b[0m\u001b[1;33m(\u001b[0m\u001b[1;33m)\u001b[0m\u001b[1;33m:\u001b[0m\u001b[1;33m\u001b[0m\u001b[1;33m\u001b[0m\u001b[0m\n",
      "\u001b[1;32md:\\ProgramData\\Anaconda3\\lib\\site-packages\\tensorflow_core\\python\\eager\\def_function.py\u001b[0m in \u001b[0;36m_call\u001b[1;34m(self, *args, **kwds)\u001b[0m\n\u001b[0;32m    604\u001b[0m       \u001b[1;31m# In this case we have not created variables on the first call. So we can\u001b[0m\u001b[1;33m\u001b[0m\u001b[1;33m\u001b[0m\u001b[1;33m\u001b[0m\u001b[0m\n\u001b[0;32m    605\u001b[0m       \u001b[1;31m# run the first trace but we should fail if variables are created.\u001b[0m\u001b[1;33m\u001b[0m\u001b[1;33m\u001b[0m\u001b[1;33m\u001b[0m\u001b[0m\n\u001b[1;32m--> 606\u001b[1;33m       \u001b[0mresults\u001b[0m \u001b[1;33m=\u001b[0m \u001b[0mself\u001b[0m\u001b[1;33m.\u001b[0m\u001b[0m_stateful_fn\u001b[0m\u001b[1;33m(\u001b[0m\u001b[1;33m*\u001b[0m\u001b[0margs\u001b[0m\u001b[1;33m,\u001b[0m \u001b[1;33m**\u001b[0m\u001b[0mkwds\u001b[0m\u001b[1;33m)\u001b[0m\u001b[1;33m\u001b[0m\u001b[1;33m\u001b[0m\u001b[0m\n\u001b[0m\u001b[0;32m    607\u001b[0m       \u001b[1;32mif\u001b[0m \u001b[0mself\u001b[0m\u001b[1;33m.\u001b[0m\u001b[0m_created_variables\u001b[0m\u001b[1;33m:\u001b[0m\u001b[1;33m\u001b[0m\u001b[1;33m\u001b[0m\u001b[0m\n\u001b[0;32m    608\u001b[0m         raise ValueError(\"Creating variables on a non-first call to a function\"\n",
      "\u001b[1;32md:\\ProgramData\\Anaconda3\\lib\\site-packages\\tensorflow_core\\python\\eager\\function.py\u001b[0m in \u001b[0;36m__call__\u001b[1;34m(self, *args, **kwargs)\u001b[0m\n\u001b[0;32m   2361\u001b[0m     \u001b[1;32mwith\u001b[0m \u001b[0mself\u001b[0m\u001b[1;33m.\u001b[0m\u001b[0m_lock\u001b[0m\u001b[1;33m:\u001b[0m\u001b[1;33m\u001b[0m\u001b[1;33m\u001b[0m\u001b[0m\n\u001b[0;32m   2362\u001b[0m       \u001b[0mgraph_function\u001b[0m\u001b[1;33m,\u001b[0m \u001b[0margs\u001b[0m\u001b[1;33m,\u001b[0m \u001b[0mkwargs\u001b[0m \u001b[1;33m=\u001b[0m \u001b[0mself\u001b[0m\u001b[1;33m.\u001b[0m\u001b[0m_maybe_define_function\u001b[0m\u001b[1;33m(\u001b[0m\u001b[0margs\u001b[0m\u001b[1;33m,\u001b[0m \u001b[0mkwargs\u001b[0m\u001b[1;33m)\u001b[0m\u001b[1;33m\u001b[0m\u001b[1;33m\u001b[0m\u001b[0m\n\u001b[1;32m-> 2363\u001b[1;33m     \u001b[1;32mreturn\u001b[0m \u001b[0mgraph_function\u001b[0m\u001b[1;33m.\u001b[0m\u001b[0m_filtered_call\u001b[0m\u001b[1;33m(\u001b[0m\u001b[0margs\u001b[0m\u001b[1;33m,\u001b[0m \u001b[0mkwargs\u001b[0m\u001b[1;33m)\u001b[0m  \u001b[1;31m# pylint: disable=protected-access\u001b[0m\u001b[1;33m\u001b[0m\u001b[1;33m\u001b[0m\u001b[0m\n\u001b[0m\u001b[0;32m   2364\u001b[0m \u001b[1;33m\u001b[0m\u001b[0m\n\u001b[0;32m   2365\u001b[0m   \u001b[1;33m@\u001b[0m\u001b[0mproperty\u001b[0m\u001b[1;33m\u001b[0m\u001b[1;33m\u001b[0m\u001b[0m\n",
      "\u001b[1;32md:\\ProgramData\\Anaconda3\\lib\\site-packages\\tensorflow_core\\python\\eager\\function.py\u001b[0m in \u001b[0;36m_filtered_call\u001b[1;34m(self, args, kwargs)\u001b[0m\n\u001b[0;32m   1609\u001b[0m          if isinstance(t, (ops.Tensor,\n\u001b[0;32m   1610\u001b[0m                            resource_variable_ops.BaseResourceVariable))),\n\u001b[1;32m-> 1611\u001b[1;33m         self.captured_inputs)\n\u001b[0m\u001b[0;32m   1612\u001b[0m \u001b[1;33m\u001b[0m\u001b[0m\n\u001b[0;32m   1613\u001b[0m   \u001b[1;32mdef\u001b[0m \u001b[0m_call_flat\u001b[0m\u001b[1;33m(\u001b[0m\u001b[0mself\u001b[0m\u001b[1;33m,\u001b[0m \u001b[0margs\u001b[0m\u001b[1;33m,\u001b[0m \u001b[0mcaptured_inputs\u001b[0m\u001b[1;33m,\u001b[0m \u001b[0mcancellation_manager\u001b[0m\u001b[1;33m=\u001b[0m\u001b[1;32mNone\u001b[0m\u001b[1;33m)\u001b[0m\u001b[1;33m:\u001b[0m\u001b[1;33m\u001b[0m\u001b[1;33m\u001b[0m\u001b[0m\n",
      "\u001b[1;32md:\\ProgramData\\Anaconda3\\lib\\site-packages\\tensorflow_core\\python\\eager\\function.py\u001b[0m in \u001b[0;36m_call_flat\u001b[1;34m(self, args, captured_inputs, cancellation_manager)\u001b[0m\n\u001b[0;32m   1690\u001b[0m       \u001b[1;31m# No tape is watching; skip to running the function.\u001b[0m\u001b[1;33m\u001b[0m\u001b[1;33m\u001b[0m\u001b[1;33m\u001b[0m\u001b[0m\n\u001b[0;32m   1691\u001b[0m       return self._build_call_outputs(self._inference_function.call(\n\u001b[1;32m-> 1692\u001b[1;33m           ctx, args, cancellation_manager=cancellation_manager))\n\u001b[0m\u001b[0;32m   1693\u001b[0m     forward_backward = self._select_forward_and_backward_functions(\n\u001b[0;32m   1694\u001b[0m         \u001b[0margs\u001b[0m\u001b[1;33m,\u001b[0m\u001b[1;33m\u001b[0m\u001b[1;33m\u001b[0m\u001b[0m\n",
      "\u001b[1;32md:\\ProgramData\\Anaconda3\\lib\\site-packages\\tensorflow_core\\python\\eager\\function.py\u001b[0m in \u001b[0;36mcall\u001b[1;34m(self, ctx, args, cancellation_manager)\u001b[0m\n\u001b[0;32m    543\u001b[0m               \u001b[0minputs\u001b[0m\u001b[1;33m=\u001b[0m\u001b[0margs\u001b[0m\u001b[1;33m,\u001b[0m\u001b[1;33m\u001b[0m\u001b[1;33m\u001b[0m\u001b[0m\n\u001b[0;32m    544\u001b[0m               \u001b[0mattrs\u001b[0m\u001b[1;33m=\u001b[0m\u001b[1;33m(\u001b[0m\u001b[1;34m\"executor_type\"\u001b[0m\u001b[1;33m,\u001b[0m \u001b[0mexecutor_type\u001b[0m\u001b[1;33m,\u001b[0m \u001b[1;34m\"config_proto\"\u001b[0m\u001b[1;33m,\u001b[0m \u001b[0mconfig\u001b[0m\u001b[1;33m)\u001b[0m\u001b[1;33m,\u001b[0m\u001b[1;33m\u001b[0m\u001b[1;33m\u001b[0m\u001b[0m\n\u001b[1;32m--> 545\u001b[1;33m               ctx=ctx)\n\u001b[0m\u001b[0;32m    546\u001b[0m         \u001b[1;32melse\u001b[0m\u001b[1;33m:\u001b[0m\u001b[1;33m\u001b[0m\u001b[1;33m\u001b[0m\u001b[0m\n\u001b[0;32m    547\u001b[0m           outputs = execute.execute_with_cancellation(\n",
      "\u001b[1;32md:\\ProgramData\\Anaconda3\\lib\\site-packages\\tensorflow_core\\python\\eager\\execute.py\u001b[0m in \u001b[0;36mquick_execute\u001b[1;34m(op_name, num_outputs, inputs, attrs, ctx, name)\u001b[0m\n\u001b[0;32m     59\u001b[0m     tensors = pywrap_tensorflow.TFE_Py_Execute(ctx._handle, device_name,\n\u001b[0;32m     60\u001b[0m                                                \u001b[0mop_name\u001b[0m\u001b[1;33m,\u001b[0m \u001b[0minputs\u001b[0m\u001b[1;33m,\u001b[0m \u001b[0mattrs\u001b[0m\u001b[1;33m,\u001b[0m\u001b[1;33m\u001b[0m\u001b[1;33m\u001b[0m\u001b[0m\n\u001b[1;32m---> 61\u001b[1;33m                                                num_outputs)\n\u001b[0m\u001b[0;32m     62\u001b[0m   \u001b[1;32mexcept\u001b[0m \u001b[0mcore\u001b[0m\u001b[1;33m.\u001b[0m\u001b[0m_NotOkStatusException\u001b[0m \u001b[1;32mas\u001b[0m \u001b[0me\u001b[0m\u001b[1;33m:\u001b[0m\u001b[1;33m\u001b[0m\u001b[1;33m\u001b[0m\u001b[0m\n\u001b[0;32m     63\u001b[0m     \u001b[1;32mif\u001b[0m \u001b[0mname\u001b[0m \u001b[1;32mis\u001b[0m \u001b[1;32mnot\u001b[0m \u001b[1;32mNone\u001b[0m\u001b[1;33m:\u001b[0m\u001b[1;33m\u001b[0m\u001b[1;33m\u001b[0m\u001b[0m\n",
      "\u001b[1;31mKeyboardInterrupt\u001b[0m: "
     ]
    }
   ],
   "source": [
    "# 执行训练与验证\n",
    "history = model.fit(train_images, train_labels, \n",
    "                    batch_size = 32, epochs = 100,\n",
    "                    validation_split = 0.2,\n",
    "                    callbacks = [saved_model, tensorboard])"
   ]
  },
  {
   "cell_type": "code",
   "execution_count": 5,
   "metadata": {},
   "outputs": [
    {
     "name": "stdout",
     "output_type": "stream",
     "text": [
      "0.513544536271809\n"
     ]
    }
   ],
   "source": [
    "model = tf.keras.models.load_model('my_model.h5')\n",
    "correct = 0\n",
    "test_len = len(test_images)\n",
    "for i in range(test_len):\n",
    "    x = tf.expand_dims(test_images[i], axis=0)\n",
    "    y0 = tf.expand_dims(test_labels[0][i], axis=0)\n",
    "    y1 = tf.expand_dims(test_labels[1][i], axis=0)\n",
    "    y2 = tf.expand_dims(test_labels[2][i], axis=0)\n",
    "    y3 = tf.expand_dims(test_labels[3][i], axis=0)\n",
    "    y4 = tf.expand_dims(test_labels[4][i], axis=0)\n",
    "    y5 = tf.expand_dims(test_labels[5][i], axis=0)\n",
    "    y = [y0, y1, y2, y3, y4, y5]\n",
    "\n",
    "#     print(y)\n",
    "    val = model.evaluate(x, y,verbose=0)\n",
    "#     print(val)\n",
    "    acc = tf.reduce_prod(val[7:])\n",
    "    \n",
    "    if acc == 1:\n",
    "        correct += 1\n",
    "\n",
    "accuracy = correct / test_len\n",
    "print(accuracy)"
   ]
  },
  {
   "cell_type": "code",
   "execution_count": 6,
   "metadata": {},
   "outputs": [
    {
     "name": "stdout",
     "output_type": "stream",
     "text": [
      "0.5182889501071319\n"
     ]
    }
   ],
   "source": [
    "model = tf.keras.models.load_model('my_model.h5')\n",
    "correct = 0\n",
    "test_len = len(test_images)\n",
    "for i in range(test_len):\n",
    "    x = tf.expand_dims(test_images[i], axis=0)\n",
    "    y0 = tf.expand_dims(test_labels[0][i], axis=0)\n",
    "    y1 = tf.expand_dims(test_labels[1][i], axis=0)\n",
    "    y2 = tf.expand_dims(test_labels[2][i], axis=0)\n",
    "    y3 = tf.expand_dims(test_labels[3][i], axis=0)\n",
    "    y4 = tf.expand_dims(test_labels[4][i], axis=0)\n",
    "    y5 = tf.expand_dims(test_labels[5][i], axis=0)\n",
    "    y = [y0, y1, y2, y3, y4, y5]\n",
    "\n",
    "#     print(y)\n",
    "    val = model.evaluate(x, y,verbose=0)\n",
    "#     print(val)\n",
    "    acc = tf.reduce_prod(val[8:])\n",
    "    \n",
    "    if acc == 1:\n",
    "        correct += 1\n",
    "\n",
    "accuracy = correct / test_len\n",
    "print(accuracy)"
   ]
  },
  {
   "cell_type": "code",
   "execution_count": null,
   "metadata": {},
   "outputs": [],
   "source": []
  }
 ],
 "metadata": {
  "kernelspec": {
   "display_name": "Python 3",
   "language": "python",
   "name": "python3"
  },
  "language_info": {
   "codemirror_mode": {
    "name": "ipython",
    "version": 3
   },
   "file_extension": ".py",
   "mimetype": "text/x-python",
   "name": "python",
   "nbconvert_exporter": "python",
   "pygments_lexer": "ipython3",
   "version": "3.7.6"
  }
 },
 "nbformat": 4,
 "nbformat_minor": 4
}
