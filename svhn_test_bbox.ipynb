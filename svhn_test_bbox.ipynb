{
 "cells": [
  {
   "cell_type": "code",
   "execution_count": 1,
   "metadata": {},
   "outputs": [],
   "source": [
    "import os\n",
    "import numpy as np\n",
    "import pickle\n",
    "from PIL import Image\n",
    "import matplotlib.pyplot as plt\n",
    "import tensorflow as tf\n",
    "from tensorflow.keras import Input, Model, layers, optimizers, losses, metrics, datasets\n",
    "# os.environ['TF_CPP_MIN_LOG_LEVEL'] = '2'  # 忽略低级别警告\n",
    "\n",
    "root_URL = 'C:\\\\Users\\\\lenovo\\\\Desktop\\\\'"
   ]
  },
  {
   "cell_type": "markdown",
   "metadata": {},
   "source": [
    "# 加载train"
   ]
  },
  {
   "cell_type": "code",
   "execution_count": 2,
   "metadata": {},
   "outputs": [
    {
     "name": "stdout",
     "output_type": "stream",
     "text": [
      "Train set 33402\n"
     ]
    }
   ],
   "source": [
    "# 读入 pkl\n",
    "pickle_file = 'svhn_raw.pkl'\n",
    "\n",
    "with open(pickle_file, 'rb') as f:\n",
    "    save = pickle.load(f)\n",
    "    train_data = save['train_data']\n",
    "    del save\n",
    "    print('Train set', len(train_data))"
   ]
  },
  {
   "cell_type": "code",
   "execution_count": 3,
   "metadata": {},
   "outputs": [],
   "source": [
    "class Dataset:\n",
    "    \"\"\"crop images and save them to numpy ndarray\"\"\"\n",
    "    \n",
    "    def __init__(self, digitStruct, folder):\n",
    "        self.digitStruct = digitStruct\n",
    "        self.folder = folder\n",
    "        \n",
    "    def setDataset(self):\n",
    "        self.dataset = np.ndarray(shape=(len(self.digitStruct), 64, 64), dtype='float32')\n",
    "        \n",
    "        # 1 length + 5 labels, 0 represents none\n",
    "        self.labels = np.ones(shape=(len(self.digitStruct), 6), dtype='int') * 10 \n",
    "        \n",
    "    def getDataset(self):\n",
    "        \n",
    "        self.setDataset()\n",
    "        \n",
    "        for i in range(len(self.digitStruct)):\n",
    "\n",
    "            fin = os.path.join(self.folder, self.digitStruct[i]['Name'])\n",
    "            im = Image.open(fin)\n",
    "            \n",
    "            boxes = self.digitStruct[i]['Bbox']\n",
    "            \n",
    "            if len(boxes) > 5:\n",
    "                print(fin, \"has more than 5 digits\")\n",
    "            else:\n",
    "                self.labels[i,0] = len(boxes)\n",
    "                self.labels[i,1:len(boxes)+1] = [int(j['label'] if j['label'] != 10 else 0) for j in boxes]\n",
    "            \n",
    "            left = [j['left'] for j in boxes]\n",
    "            top = [j['top'] for j in boxes]\n",
    "            height = [j['height'] for j in boxes]\n",
    "            width = [j['width'] for j in boxes]\n",
    "            \n",
    "            box = self.img_box(im, left, top, height, width)\n",
    "\n",
    "            size = (64, 64)\n",
    "            region = im.crop(box).resize(size)\n",
    "            region = self.normalization(region)\n",
    "#             print(region.shape)\n",
    "            self.dataset[i,:,:] = region[:,:]\n",
    "            \n",
    "        print('dataset:',self.dataset.shape)\n",
    "        print('labels:',self.labels.shape)\n",
    "        return self.dataset, self.labels\n",
    "        \n",
    "    def img_box(self, im, left, top, height, width):\n",
    "\n",
    "        im_left = min(left)\n",
    "        im_top = min(top)\n",
    "        im_height = max(top) + max(height) - im_top\n",
    "        im_width = max(left) + max(width) - im_left\n",
    "\n",
    "        im_top = im_top - im_height * 0.05 # a bit higher\n",
    "        im_left = im_left - im_width * 0.05 # a bit wider\n",
    "        im_bottom = min(im.size[1], im_top + im_height * 1.05)\n",
    "        im_right = min(im.size[0], im_left + im_width * 1.05)\n",
    "\n",
    "        return (im_left, im_top, im_right, im_bottom)\n",
    "\n",
    "\n",
    "    def normalization(self, img):\n",
    "#         im = self.rgb2gray(img) # RGB to greyscale\n",
    "        im = img.convert('L')\n",
    "        mean = np.mean(im, dtype='float32')\n",
    "        std = np.std(im, dtype='float32', ddof=1)\n",
    "        return (im - mean) / std  "
   ]
  },
  {
   "cell_type": "code",
   "execution_count": 4,
   "metadata": {},
   "outputs": [
    {
     "name": "stdout",
     "output_type": "stream",
     "text": [
      "C:\\Users\\lenovo\\Desktop\\data\\train\\29930.png has more than 5 digits\n",
      "dataset: (33402, 64, 64)\n",
      "labels: (33402, 6)\n",
      "(33402, 64, 64)\n",
      "(33402, 6)\n"
     ]
    }
   ],
   "source": [
    "train_dataset = Dataset(train_data, root_URL + 'data\\\\train')\n",
    "train_images, train_labels = train_dataset.getDataset()\n",
    "\n",
    "print(train_images.shape)\n",
    "print(train_labels.shape)"
   ]
  },
  {
   "cell_type": "code",
   "execution_count": 5,
   "metadata": {},
   "outputs": [
    {
     "name": "stdout",
     "output_type": "stream",
     "text": [
      "(33401, 64, 64)\n",
      "(33401, 6)\n"
     ]
    }
   ],
   "source": [
    "train_images = np.delete(train_images, 29929, axis=0)\n",
    "train_labels = np.delete(train_labels, 29929, axis=0)\n",
    "\n",
    "print(train_images.shape)\n",
    "print(train_labels.shape)"
   ]
  },
  {
   "cell_type": "markdown",
   "metadata": {},
   "source": [
    "# 加载test"
   ]
  },
  {
   "cell_type": "code",
   "execution_count": 6,
   "metadata": {},
   "outputs": [
    {
     "name": "stdout",
     "output_type": "stream",
     "text": [
      "Test Shape: (13068, 56, 112) (13068, 6)\n"
     ]
    }
   ],
   "source": [
    "# 加载数据\n",
    "pickle_file = root_URL + 'svhn_dataset_112x56.pkl'\n",
    "with open(pickle_file, 'rb') as f:\n",
    "    save = pickle.load(f)\n",
    "    test_images = save['test_images']\n",
    "    test_labels = save['test_labels']\n",
    "    del save  # hint to help gc free up memory\n",
    "    print('Test Shape:', test_images.shape, test_labels.shape)"
   ]
  },
  {
   "cell_type": "code",
   "execution_count": 7,
   "metadata": {},
   "outputs": [
    {
     "name": "stdout",
     "output_type": "stream",
     "text": [
      "[[42.591873   4.9120226 70.923584  48.121773 ]\n",
      " [60.36004    5.3684783 88.787186  34.532227 ]\n",
      " [39.058296   9.150379  70.7265    44.778923 ]\n",
      " ...\n",
      " [25.268398  14.634584  62.775154  43.23011  ]\n",
      " [48.04538   16.495087  66.39281   38.876076 ]\n",
      " [40.949486   9.921697  71.528824  44.986916 ]]\n"
     ]
    }
   ],
   "source": [
    "# test bbox\n",
    "test_len = len(test_images)\n",
    "test_bboxes = np.zeros(shape=(test_len, 4), dtype='float32')\n",
    "\n",
    "model = tf.keras.models.load_model('my_model_bbox_500.h5')\n",
    "for i in range(test_len):\n",
    "    x = tf.expand_dims(test_images[i], axis=0)\n",
    "    x = tf.expand_dims(x, axis=-1)\n",
    "    y = model.predict(x, verbose=0)\n",
    "    test_bboxes[i] = y\n",
    "    \n",
    "print(test_bboxes)"
   ]
  },
  {
   "cell_type": "code",
   "execution_count": 8,
   "metadata": {},
   "outputs": [
    {
     "name": "stdout",
     "output_type": "stream",
     "text": [
      "[47.310925 11.98835  66.08966  38.63517 ]\n"
     ]
    }
   ],
   "source": [
    "print(test_bboxes[90])"
   ]
  },
  {
   "cell_type": "code",
   "execution_count": 9,
   "metadata": {},
   "outputs": [
    {
     "name": "stderr",
     "output_type": "stream",
     "text": [
      "d:\\ProgramData\\Anaconda3\\lib\\site-packages\\ipykernel_launcher.py:6: RuntimeWarning: invalid value encountered in true_divide\n",
      "  \n"
     ]
    },
    {
     "name": "stdout",
     "output_type": "stream",
     "text": [
      "[[0.33797434 0.33797434 0.33797434 ... 0.33797434 0.33797434 0.33797434]\n",
      " [0.33797434 0.33797434 0.33797434 ... 0.33797434 0.33797434 0.33797434]\n",
      " [0.33797434 0.33797434 0.33797434 ... 0.33797434 0.33797434 0.33797434]\n",
      " ...\n",
      " [0.82675284 0.82675284 0.82675284 ... 0.9489474  0.9489474  0.9489474 ]\n",
      " [0.82675284 0.82675284 0.8878501  ... 0.9489474  0.8878501  0.8878501 ]\n",
      " [0.82675284 0.82675284 0.8878501  ... 0.8878501  0.8878501  0.8878501 ]]\n"
     ]
    }
   ],
   "source": [
    "def normalization(img):\n",
    "\n",
    "    im = img.convert('L')\n",
    "    mean = np.mean(im, dtype='float32')\n",
    "    std = np.std(im, dtype='float32', ddof=1)\n",
    "    return (im - mean) / std  \n",
    "   \n",
    "width_size = 112\n",
    "height_size = 56\n",
    "\n",
    "del test_images\n",
    "test_images = np.ndarray(shape=(test_len, 64, 64), dtype='float32')\n",
    "\n",
    "for i in range(test_len):\n",
    "    \n",
    "    fin = os.path.join(root_URL, 'data', 'test', str(i+1)+ '.png')\n",
    "    im = Image.open(fin)\n",
    "    \n",
    "    bbox = test_bboxes[i]\n",
    "    \n",
    "    im_left = bbox[0] * im.size[0] / width_size\n",
    "    im_top = bbox[1] * im.size[1] / height_size\n",
    "    im_right = bbox[2] * im.size[0] / width_size\n",
    "    im_bottom = bbox[3] * im.size[1] / height_size\n",
    "    \n",
    "    box = [im_left, im_top, im_right, im_bottom]\n",
    "\n",
    "    size = (64, 64)\n",
    "    region = im.crop(box).resize(size)\n",
    "    region = normalization(region)\n",
    "    #             print(region.shape)\n",
    "    test_images[i,:,:] = region[:,:]\n",
    "    \n",
    "print(test_images[0])"
   ]
  },
  {
   "cell_type": "code",
   "execution_count": 10,
   "metadata": {},
   "outputs": [
    {
     "name": "stdout",
     "output_type": "stream",
     "text": [
      "[ 1  2 10 10 10 10]\n"
     ]
    },
    {
     "data": {
      "image/png": "[encoded data removed]",
      "text/plain": [
       "<Figure size 432x288 with 1 Axes>"
      ]
     },
     "metadata": {
      "needs_background": "light"
     },
     "output_type": "display_data"
    }
   ],
   "source": [
    "num = 96\n",
    "plt.imshow(test_images[num,:,:])\n",
    "print(test_labels[num])"
   ]
  },
  {
   "cell_type": "code",
   "execution_count": 11,
   "metadata": {},
   "outputs": [
    {
     "name": "stdout",
     "output_type": "stream",
     "text": [
      "Done\n"
     ]
    }
   ],
   "source": [
    "# 保存 dataset\n",
    "pickle_file = 'svhn_dataset_64x64.pkl'\n",
    "\n",
    "try:\n",
    "    f = open(pickle_file, 'wb')\n",
    "    save = {\n",
    "    'train_images': train_images,\n",
    "    'train_labels': train_labels,\n",
    "    'test_images': test_images,\n",
    "    'test_labels': test_labels,\n",
    "    }\n",
    "    pickle.dump(save, f, pickle.HIGHEST_PROTOCOL)\n",
    "    f.close()\n",
    "    print(\"Done\")\n",
    "except Exception as e:\n",
    "    print('Unable to save data to', pickle_file, ':', e)\n",
    "    raise"
   ]
  },
  {
   "cell_type": "code",
   "execution_count": 2,
   "metadata": {},
   "outputs": [
    {
     "name": "stdout",
     "output_type": "stream",
     "text": [
      "Train Shape: (33401, 64, 64) (33401, 6)\n",
      "Test Shape: (13068, 64, 64) (13068, 6)\n"
     ]
    }
   ],
   "source": [
    "# 加载数据\n",
    "pickle_file = root_URL + 'svhn_dataset_64x64.pkl'\n",
    "with open(pickle_file, 'rb') as f:\n",
    "    save = pickle.load(f)\n",
    "    train_images = save['train_images']\n",
    "    train_labels = save['train_labels']\n",
    "    test_images = save['test_images']\n",
    "    test_labels = save['test_labels']\n",
    "    del save  # hint to help gc free up memory\n",
    "    print('Train Shape:', train_images.shape, train_labels.shape)\n",
    "    print('Test Shape:', test_images.shape, test_labels.shape)"
   ]
  },
  {
   "cell_type": "code",
   "execution_count": 8,
   "metadata": {},
   "outputs": [
    {
     "name": "stdout",
     "output_type": "stream",
     "text": [
      "[ 3  2  1  0 10 10]\n"
     ]
    },
    {
     "data": {
      "image/png": "[encoded data removed]",
      "text/plain": [
       "<Figure size 432x288 with 1 Axes>"
      ]
     },
     "metadata": {
      "needs_background": "light"
     },
     "output_type": "display_data"
    }
   ],
   "source": [
    "num = 1\n",
    "plt.imshow(test_images[num,:,:])\n",
    "plt.axis('off')\n",
    "plt.savefig('65x65.png')\n",
    "print(test_labels[num])"
   ]
  },
  {
   "cell_type": "code",
   "execution_count": null,
   "metadata": {},
   "outputs": [],
   "source": []
  }
 ],
 "metadata": {
  "kernelspec": {
   "display_name": "Python 3",
   "language": "python",
   "name": "python3"
  },
  "language_info": {
   "codemirror_mode": {
    "name": "ipython",
    "version": 3
   },
   "file_extension": ".py",
   "mimetype": "text/x-python",
   "name": "python",
   "nbconvert_exporter": "python",
   "pygments_lexer": "ipython3",
   "version": "3.7.6"
  }
 },
 "nbformat": 4,
 "nbformat_minor": 4
}
